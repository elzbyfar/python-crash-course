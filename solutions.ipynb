{
 "cells": [
  {
   "cell_type": "markdown",
   "metadata": {},
   "source": [
    "### Exercise 1\n",
    "\n",
    "Create a for loop that multiplies each integer in this list by 10 and prints that integer."
   ]
  },
  {
   "cell_type": "code",
   "execution_count": 79,
   "metadata": {},
   "outputs": [
    {
     "name": "stdout",
     "output_type": "stream",
     "text": [
      "0\n",
      "50\n",
      "100\n",
      "150\n",
      "200\n",
      "250\n",
      "300\n",
      "320\n",
      "380\n",
      "400\n"
     ]
    }
   ],
   "source": [
    "tenths = [0, 5, 10, 15, 20, 25, 30, 32, 38, 40]\n",
    "\n",
    "for n in tenths:\n",
    "    times_ten = n * 10\n",
    "    print(times_ten)"
   ]
  },
  {
   "cell_type": "markdown",
   "metadata": {},
   "source": [
    "### Exercise 2\n",
    "\n",
    "Create a list comprehension that multiplies each integer in this list by 20 the new list."
   ]
  },
  {
   "cell_type": "code",
   "execution_count": 80,
   "metadata": {},
   "outputs": [
    {
     "data": {
      "text/plain": [
       "[0, 25, 50, 75, 100, 125, 150, 160, 190, 200]"
      ]
     },
     "execution_count": 80,
     "metadata": {},
     "output_type": "execute_result"
    }
   ],
   "source": [
    "fifths = [0, 5, 10, 15, 20, 25, 30, 32, 38, 40]\n",
    "\n",
    "times_five = [n * 5 for n in fifths]\n",
    "\n",
    "times_five"
   ]
  },
  {
   "cell_type": "markdown",
   "metadata": {},
   "source": [
    "### Exercise 3\n",
    "\n",
    "Create a function that takes a list of integers and returns a new list with each integer squared. \n",
    "\n",
    "** Bonus Points: solve with a list comprehension **\n"
   ]
  },
  {
   "cell_type": "code",
   "execution_count": 81,
   "metadata": {},
   "outputs": [
    {
     "data": {
      "text/plain": [
       "[0,\n",
       " 1,\n",
       " 4,\n",
       " 9,\n",
       " 16,\n",
       " 25,\n",
       " 36,\n",
       " 49,\n",
       " 64,\n",
       " 81,\n",
       " 100,\n",
       " 121,\n",
       " 144,\n",
       " 169,\n",
       " 196,\n",
       " 225,\n",
       " 256,\n",
       " 289,\n",
       " 324,\n",
       " 361,\n",
       " 400]"
      ]
     },
     "execution_count": 81,
     "metadata": {},
     "output_type": "execute_result"
    }
   ],
   "source": [
    "values = [0, 1, 2, 3, 4, 5, 6, 7, 8, 9, 10, 11, 12, 13, 14, 15, 16, 17, 18, 19, 20]\n",
    "\n",
    "# Solution 1\n",
    "def squares(nums):\n",
    "    nums_squared = []\n",
    "    for n in nums:\n",
    "        square = n ** 2\n",
    "        nums_squared.append(square)\n",
    "    return nums_squared\n",
    "\n",
    "squares(values)\n",
    "\n",
    "# Solution 2\n",
    "def squares(nums):\n",
    "    nums_squared = [n ** 2 for n in nums]\n",
    "    return nums_squared\n",
    "\n",
    "squares(values)"
   ]
  },
  {
   "cell_type": "markdown",
   "metadata": {},
   "source": [
    "### Exercise 4\n",
    "\n",
    "Create a function that takes a list of integers. The function should do the following: \n",
    "\n",
    "- go through the list of integers\n",
    "- if an integer is even get the square of it and append it to the new list. \n",
    "- if an integer is odd get the cube of it and append it to the new list. \n",
    "- return the new list \n",
    "\n",
    "** Bonus Points: solve with a list comprehension **"
   ]
  },
  {
   "cell_type": "code",
   "execution_count": 82,
   "metadata": {},
   "outputs": [
    {
     "name": "stdout",
     "output_type": "stream",
     "text": [
      "[0, 1, 4, 27, 16, 125, 36, 343, 64, 729, 100, 1331, 144, 2197, 196, 3375, 256, 4913, 324, 6859, 400]\n"
     ]
    }
   ],
   "source": [
    "values = [0, 1, 2, 3, 4, 5, 6, 7, 8, 9, 10, 11, 12, 13, 14, 15, 16, 17, 18, 19, 20]\n",
    "\n",
    "# Solution 1\n",
    "def even_squares_or_odd_cubes(nums):\n",
    "    output = []\n",
    "    for n in nums:\n",
    "        if n % 2 == 0:\n",
    "            square = n ** 2\n",
    "            output.append(square)\n",
    "        else: \n",
    "            cube = n ** 3\n",
    "            output.append(cube)\n",
    "            \n",
    "    return output\n",
    "\n",
    "# Solution 2\n",
    "\n",
    "def even_squares_or_odd_cubes_comp(nums):\n",
    "    output = [n ** 2 if n % 2 == 0 else n ** 3 for n in nums]\n",
    "    return output\n",
    "\n",
    "print(even_squares_or_odd_cubes_comp(values))"
   ]
  },
  {
   "cell_type": "markdown",
   "metadata": {},
   "source": [
    "### Exercise 5\n",
    "\n",
    "Create a function that iterates through the following string and returns a new string containing only words that have the letter 'y'. \n",
    "\n",
    "lyrics = '''Yesterday, All my troubles seemed so far away. Now it looks as though they're here to stay. Oh, I believe in yesterday. Suddenly, I'm not half the man I used to be. There's a shadow hangin' over me. Oh, yesterday came suddenly. Why she had to go, I don't know, she wouldn't say. I said something wrong, now I long for yesterday. Yesterday, Love was such an easy game to play. Now I need a place to hide away. Oh, I believe in yesterday. Why she had to go, I don't know, she wouldn't say. I said something wrong, now I long for yesterday. Yesterday, Love was such an easy game to play. Now I need a place to hide away. Oh, I believe in yesterday. Mm mm mm mm mm mm mm'''"
   ]
  },
  {
   "cell_type": "code",
   "execution_count": 83,
   "metadata": {},
   "outputs": [
    {
     "data": {
      "text/plain": [
       "\"Yesterday, my away. they're stay. yesterday. Suddenly, yesterday suddenly. Why say. yesterday. Yesterday, easy play. away. yesterday. Why say. yesterday. Yesterday, easy play. away. yesterday.\""
      ]
     },
     "execution_count": 83,
     "metadata": {},
     "output_type": "execute_result"
    }
   ],
   "source": [
    "lyrics = '''Yesterday, All my troubles seemed so far away. Now it looks as though they're here to stay. Oh, I believe in yesterday. Suddenly, I'm not half the man I used to be. There's a shadow hangin' over me. Oh, yesterday came suddenly. Why she had to go, I don't know, she wouldn't say. I said something wrong, now I long for yesterday. Yesterday, Love was such an easy game to play. Now I need a place to hide away. Oh, I believe in yesterday. Why she had to go, I don't know, she wouldn't say. I said something wrong, now I long for yesterday. Yesterday, Love was such an easy game to play. Now I need a place to hide away. Oh, I believe in yesterday. Mm mm mm mm mm mm mm'''\n",
    "\n",
    "# Solutions 1\n",
    "def find_your_why(string):\n",
    "    words = string.split(\" \")\n",
    "    new_string = \"\"\n",
    "    for word in words:\n",
    "        if \"y\" in word:\n",
    "            new_string += (word + \" \")\n",
    "    \n",
    "    return new_string\n",
    "\n",
    "# Solution 2\n",
    "def find_your_why_comp(string):\n",
    "    new_string = \" \".join([word for word in string.split(\" \") if \"y\" in word])\n",
    "    return new_string\n",
    "        \n",
    "find_your_why_comp(lyrics)"
   ]
  },
  {
   "cell_type": "markdown",
   "metadata": {},
   "source": [
    "### Exercise 6\n",
    "\n",
    "Create a function that iterates through the following string and returns a dictionary where each word is a key and the value is the amount of times that word appears in the string. \n",
    "\n",
    "lyrics = '''Yesterday, All my troubles seemed so far away. Now it looks as though they're here to stay. Oh, I believe in yesterday. Suddenly, I'm not half the man I used to be. There's a shadow hangin' over me. Oh, yesterday came suddenly. Why she had to go, I don't know, she wouldn't say. I said something wrong, now I long for yesterday. Yesterday, Love was such an easy game to play. Now I need a place to hide away. Oh, I believe in yesterday. Why she had to go, I don't know, she wouldn't say. I said something wrong, now I long for yesterday. Yesterday, Love was such an easy game to play. Now I need a place to hide away. Oh, I believe in yesterday. Mm mm mm mm mm mm mm'''"
   ]
  },
  {
   "cell_type": "code",
   "execution_count": 84,
   "metadata": {},
   "outputs": [
    {
     "data": {
      "text/plain": [
       "{'yesterday': 9,\n",
       " 'all': 1,\n",
       " 'my': 1,\n",
       " 'troubles': 1,\n",
       " 'seemed': 1,\n",
       " 'so': 1,\n",
       " 'far': 1,\n",
       " 'away': 3,\n",
       " 'now': 5,\n",
       " 'it': 1,\n",
       " 'looks': 1,\n",
       " 'as': 1,\n",
       " 'though': 1,\n",
       " \"they're\": 1,\n",
       " 'here': 1,\n",
       " 'to': 8,\n",
       " 'stay': 1,\n",
       " 'oh': 4,\n",
       " 'i': 12,\n",
       " 'believe': 3,\n",
       " 'in': 3,\n",
       " 'suddenly': 2,\n",
       " \"i'm\": 1,\n",
       " 'not': 1,\n",
       " 'half': 1,\n",
       " 'the': 1,\n",
       " 'man': 1,\n",
       " 'used': 1,\n",
       " 'be': 1,\n",
       " \"there's\": 1,\n",
       " 'a': 3,\n",
       " 'shadow': 1,\n",
       " \"hangin'\": 1,\n",
       " 'over': 1,\n",
       " 'me': 1,\n",
       " 'came': 1,\n",
       " 'why': 2,\n",
       " 'she': 4,\n",
       " 'had': 2,\n",
       " 'go': 2,\n",
       " \"don't\": 2,\n",
       " 'know': 2,\n",
       " \"wouldn't\": 2,\n",
       " 'say': 2,\n",
       " 'said': 2,\n",
       " 'something': 2,\n",
       " 'wrong': 2,\n",
       " 'long': 2,\n",
       " 'for': 2,\n",
       " 'love': 2,\n",
       " 'was': 2,\n",
       " 'such': 2,\n",
       " 'an': 2,\n",
       " 'easy': 2,\n",
       " 'game': 2,\n",
       " 'play': 2,\n",
       " 'need': 2,\n",
       " 'place': 2,\n",
       " 'hide': 2,\n",
       " 'mm': 7}"
      ]
     },
     "execution_count": 84,
     "metadata": {},
     "output_type": "execute_result"
    }
   ],
   "source": [
    "lyrics = '''Yesterday, All my troubles seemed so far away. Now it looks as though they're here to stay. Oh, I believe in yesterday. Suddenly, I'm not half the man I used to be. There's a shadow hangin' over me. Oh, yesterday came suddenly. Why she had to go, I don't know, she wouldn't say. I said something wrong, now I long for yesterday. Yesterday, Love was such an easy game to play. Now I need a place to hide away. Oh, I believe in yesterday. Why she had to go, I don't know, she wouldn't say. I said something wrong, now I long for yesterday. Yesterday, Love was such an easy game to play. Now I need a place to hide away. Oh, I believe in yesterday. Mm mm mm mm mm mm mm'''\n",
    "\n",
    "\n",
    "def word_counter(string):\n",
    "    words = string.split(\" \")\n",
    "    \n",
    "    dictionary = {}\n",
    "    for word in words:\n",
    "        word = word.lower().strip(',').strip('.')\n",
    "        if word in dictionary:\n",
    "            dictionary[word] += 1\n",
    "        else:\n",
    "            dictionary[word] = 1\n",
    "    return dictionary\n",
    "    \n",
    "def word_counter_comp(string):\n",
    "    words = string.split(\" \")\n",
    "    words = [word.lower().strip(',').strip('.') for word in words]\n",
    "    tupes = [(word, words.count(word)) for word in words]\n",
    "    return dict(tupes)\n",
    "    \n",
    "word_counter_comp(lyrics)"
   ]
  },
  {
   "cell_type": "code",
   "execution_count": null,
   "metadata": {},
   "outputs": [],
   "source": []
  },
  {
   "cell_type": "code",
   "execution_count": null,
   "metadata": {},
   "outputs": [],
   "source": []
  }
 ],
 "metadata": {
  "kernelspec": {
   "display_name": "Python 3",
   "language": "python",
   "name": "python3"
  },
  "language_info": {
   "codemirror_mode": {
    "name": "ipython",
    "version": 3
   },
   "file_extension": ".py",
   "mimetype": "text/x-python",
   "name": "python",
   "nbconvert_exporter": "python",
   "pygments_lexer": "ipython3",
   "version": "3.8.5"
  }
 },
 "nbformat": 4,
 "nbformat_minor": 4
}
