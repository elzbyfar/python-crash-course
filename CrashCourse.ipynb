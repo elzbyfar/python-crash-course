{
 "cells": [
  {
   "cell_type": "markdown",
   "metadata": {},
   "source": [
    "<div style=\"background: #000;\n",
    "            color: #FFF;\n",
    "            margin: 0px;\n",
    "                padding: 10px 0px 20px 0px;\n",
    "            text-align: center; \n",
    "                \">\n",
    "    <h1>Python Crash Course</h1>\n",
    "</div>\n",
    "\n",
    "\n",
    "\n",
    "## Todays Agenda\n",
    "\n",
    "* Review Basics\n",
    "* Go through exercises\n",
    "* Discussion Time...?\n",
    " "
   ]
  },
  {
   "cell_type": "markdown",
   "metadata": {},
   "source": [
    "<div>\n",
    "    <hr/>\n",
    "</div>\n",
    "\n",
    "# Basics\n",
    "\n"
   ]
  },
  {
   "cell_type": "code",
   "execution_count": null,
   "metadata": {},
   "outputs": [],
   "source": [
    "# Variable Declaration\n",
    "\n",
    "x = 10\n",
    "\n",
    "print(x)"
   ]
  },
  {
   "cell_type": "code",
   "execution_count": 64,
   "metadata": {},
   "outputs": [],
   "source": [
    "# Algebra\n",
    "\n",
    "y = x + 5\n",
    "\n",
    "z = x * 2\n",
    "\n",
    "w = z - y\n",
    "\n",
    "# print(y)\n",
    "# print(z)\n",
    "# print(w)"
   ]
  },
  {
   "cell_type": "code",
   "execution_count": null,
   "metadata": {},
   "outputs": [],
   "source": [
    "# Built in functions\n",
    "\n",
    "type(w)\n",
    "str(w)\n",
    "\n",
    "# print(type(str(w)))"
   ]
  },
  {
   "cell_type": "code",
   "execution_count": null,
   "metadata": {},
   "outputs": [],
   "source": [
    "# Strings\n",
    "greeting = \"Hello world!\"\n",
    "print(greeting)"
   ]
  },
  {
   "cell_type": "code",
   "execution_count": null,
   "metadata": {},
   "outputs": [],
   "source": [
    "print(greeting[4])"
   ]
  },
  {
   "cell_type": "code",
   "execution_count": null,
   "metadata": {},
   "outputs": [],
   "source": [
    "print(greeting[0:5])"
   ]
  },
  {
   "cell_type": "code",
   "execution_count": null,
   "metadata": {},
   "outputs": [],
   "source": [
    "nums = [1, 2, 3]\n",
    "letters = ['a', 'b', 'c']\n",
    "\n",
    "# print(nums[2])\n",
    "# print(letters[2])"
   ]
  },
  {
   "cell_type": "code",
   "execution_count": null,
   "metadata": {},
   "outputs": [],
   "source": [
    "# Functions\n",
    "\n",
    "def by_five(num):\n",
    "    return num * 5\n",
    "\n",
    "def multiplier(first_num, second_num):\n",
    "    return first_num * second_num\n",
    "\n",
    "def make_plural(word):\n",
    "    return word + 's'"
   ]
  },
  {
   "cell_type": "markdown",
   "metadata": {},
   "source": [
    "<div>\n",
    "    <hr/>\n",
    "</div>\n",
    "\n",
    "# Exercises"
   ]
  },
  {
   "cell_type": "markdown",
   "metadata": {},
   "source": [
    "### Exercise 1\n",
    "\n",
    "Create a for loop that multiplies each integer in this list by 10 and prints that integer."
   ]
  },
  {
   "cell_type": "code",
   "execution_count": null,
   "metadata": {},
   "outputs": [],
   "source": [
    "tenths = [0, 5, 10, 15, 20, 25, 30, 32, 38, 40]\n"
   ]
  },
  {
   "cell_type": "markdown",
   "metadata": {},
   "source": [
    "### Exercise 2\n",
    "\n",
    "Create a list comprehension that multiplies each integer in this list by 20 the new list."
   ]
  },
  {
   "cell_type": "code",
   "execution_count": 67,
   "metadata": {},
   "outputs": [],
   "source": [
    "fifths = [0, 5, 10, 15, 20, 25, 30, 32, 38, 40]\n"
   ]
  },
  {
   "cell_type": "markdown",
   "metadata": {},
   "source": [
    "### Exercise 3\n",
    "\n",
    "Create a function that takes a list of integers and returns a new list with each integer squared. \n",
    "\n",
    "** Bonus Points: solve with a list comprehension **\n"
   ]
  },
  {
   "cell_type": "code",
   "execution_count": null,
   "metadata": {},
   "outputs": [],
   "source": [
    "values = [0, 1, 2, 3, 4, 5, 6, 7, 8, 9, 10, 11, 12, 13, 14, 15, 16, 17, 18, 19, 20]\n"
   ]
  },
  {
   "cell_type": "markdown",
   "metadata": {},
   "source": [
    "### Exercise 4\n",
    "\n",
    "Create a function that takes a list of integers. The function should do the following: \n",
    "\n",
    "- go through the list of integers\n",
    "- if an integer is even get the square of it and append it to the new list. \n",
    "- if an integer is odd get the cube of it and append it to the new list. \n",
    "- return the new list \n",
    "\n",
    "** Bonus Points: solve with a list comprehension **"
   ]
  },
  {
   "cell_type": "code",
   "execution_count": null,
   "metadata": {},
   "outputs": [],
   "source": [
    "values = [0, 1, 2, 3, 4, 5, 6, 7, 8, 9, 10, 11, 12, 13, 14, 15, 16, 17, 18, 19, 20]\n"
   ]
  },
  {
   "cell_type": "markdown",
   "metadata": {},
   "source": [
    "### Exercise 5\n",
    "\n",
    "Create a function that iterates through the following string and returns a new string containing only words that have the letter 'y'. \n",
    "\n",
    "lyrics = '''Yesterday, All my troubles seemed so far away. Now it looks as though they're here to stay. Oh, I believe in yesterday. Suddenly, I'm not half the man I used to be. There's a shadow hangin' over me. Oh, yesterday came suddenly. Why she had to go, I don't know, she wouldn't say. I said something wrong, now I long for yesterday. Yesterday, Love was such an easy game to play. Now I need a place to hide away. Oh, I believe in yesterday. Why she had to go, I don't know, she wouldn't say. I said something wrong, now I long for yesterday. Yesterday, Love was such an easy game to play. Now I need a place to hide away. Oh, I believe in yesterday. Mm mm mm mm mm mm mm'''"
   ]
  },
  {
   "cell_type": "code",
   "execution_count": null,
   "metadata": {},
   "outputs": [],
   "source": []
  },
  {
   "cell_type": "markdown",
   "metadata": {},
   "source": [
    "### Exercise 6\n",
    "\n",
    "Create a function that iterates through the following string and returns a dictionary where each word is a key and the value is the amount of times that word appears in the string. \n",
    "\n",
    "lyrics = '''Yesterday, All my troubles seemed so far away. Now it looks as though they're here to stay. Oh, I believe in yesterday. Suddenly, I'm not half the man I used to be. There's a shadow hangin' over me. Oh, yesterday came suddenly. Why she had to go, I don't know, she wouldn't say. I said something wrong, now I long for yesterday. Yesterday, Love was such an easy game to play. Now I need a place to hide away. Oh, I believe in yesterday. Why she had to go, I don't know, she wouldn't say. I said something wrong, now I long for yesterday. Yesterday, Love was such an easy game to play. Now I need a place to hide away. Oh, I believe in yesterday. Mm mm mm mm mm mm mm'''"
   ]
  },
  {
   "cell_type": "raw",
   "metadata": {},
   "source": [
    "Example:\n",
    "\n",
    "dictionary: {\n",
    "             'yesterday': 9,\n",
    "             'all': 1,\n",
    "             'my': 1,\n",
    "             'troubles': 1,\n",
    "             'seemed': 1,\n",
    "             'so': 1,\n",
    "             'far': 1,\n",
    "             'away': 3,\n",
    "             'now': 5\n",
    "             ...\n",
    "            }"
   ]
  },
  {
   "cell_type": "code",
   "execution_count": null,
   "metadata": {},
   "outputs": [],
   "source": []
  }
 ],
 "metadata": {
  "kernelspec": {
   "display_name": "Python 3",
   "language": "python",
   "name": "python3"
  },
  "language_info": {
   "codemirror_mode": {
    "name": "ipython",
    "version": 3
   },
   "file_extension": ".py",
   "mimetype": "text/x-python",
   "name": "python",
   "nbconvert_exporter": "python",
   "pygments_lexer": "ipython3",
   "version": "3.8.5"
  }
 },
 "nbformat": 4,
 "nbformat_minor": 4
}
